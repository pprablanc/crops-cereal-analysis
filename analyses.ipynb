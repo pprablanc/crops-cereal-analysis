{
 "cells": [
  {
   "cell_type": "code",
   "execution_count": null,
   "metadata": {},
   "outputs": [],
   "source": [
    "# Reading in Multi-file netCDF impossible as file format is not accepted\n",
    "import os\n",
    "import pandas as pd\n",
    "import numpy as np\n",
    "import netCDF4 as nc\n",
    "\n",
    "full_dataset = dict(time=[], cereal=[], nc=[])\n",
    "path = 'data'\n",
    "with os.scandir(path) as dir_data:\n",
    "    for sub_dir_data in dir_data:\n",
    "        for f in os.scandir(os.path.join(path, sub_dir_data.name)):\n",
    "            path_f = os.path.join(path, sub_dir_data.name, f.name)\n",
    "            time = int(f.name.split('_')[1][:4])\n",
    "            full_dataset['time'].append(time)\n",
    "            full_dataset['cereal'].append(sub_dir_data.name)\n",
    "            full_dataset['nc'].append(nc.Dataset(path_f, 'r'))\n",
    "\n",
    "df = pd.DataFrame(full_dataset)"
   ]
  }
 ],
 "metadata": {
  "kernelspec": {
   "display_name": "Python 3",
   "language": "python",
   "name": "python3"
  },
  "language_info": {
   "codemirror_mode": {
    "name": "ipython",
    "version": 3
   },
   "file_extension": ".py",
   "mimetype": "text/x-python",
   "name": "python",
   "nbconvert_exporter": "python",
   "pygments_lexer": "ipython3",
   "version": "3.9.2"
  }
 },
 "nbformat": 4,
 "nbformat_minor": 4
}
